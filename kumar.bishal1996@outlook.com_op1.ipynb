{
 "cells": [
  {
   "cell_type": "markdown",
   "metadata": {},
   "source": [
    "1. Write a function that inputs a number and prints the multiplication table of that number"
   ]
  },
  {
   "cell_type": "code",
   "execution_count": 61,
   "metadata": {},
   "outputs": [],
   "source": [
    "import numpy as np  #import numpy module\n",
    "#define a function to print the multiplication table of a given number as input\n",
    "def mul_table() :\n",
    "    '''prints multiplication table of num upto 10 times'''\n",
    "    try :\n",
    "        num = int(input('Enter the number : '))\n",
    "    except :\n",
    "        print('Please enter an integer !')\n",
    "    result = [num * i for i in np.arange(1,11,1)]\n",
    "    \n",
    "    return result"
   ]
  },
  {
   "cell_type": "code",
   "execution_count": 62,
   "metadata": {},
   "outputs": [
    {
     "name": "stdout",
     "output_type": "stream",
     "text": [
      "Enter the number : 5\n"
     ]
    },
    {
     "data": {
      "text/plain": [
       "[5, 10, 15, 20, 25, 30, 35, 40, 45, 50]"
      ]
     },
     "execution_count": 62,
     "metadata": {},
     "output_type": "execute_result"
    }
   ],
   "source": [
    "mul_table() # calling the function\n"
   ]
  },
  {
   "cell_type": "markdown",
   "metadata": {},
   "source": [
    "2. Write a program to print twin primes less than 1000. If two consecutive odd numbers are\n",
    "   both prime then they are known as twin primes\n"
   ]
  },
  {
   "cell_type": "code",
   "execution_count": 55,
   "metadata": {},
   "outputs": [
    {
     "name": "stdout",
     "output_type": "stream",
     "text": [
      "[(3, 5), (5, 7), (11, 13), (17, 19), (29, 31), (41, 43), (59, 61), (71, 73), (101, 103), (107, 109), (137, 139), (149, 151), (179, 181), (191, 193), (197, 199), (227, 229), (239, 241), (269, 271), (281, 283), (311, 313), (347, 349), (419, 421), (431, 433), (461, 463), (521, 523), (569, 571), (599, 601), (617, 619), (641, 643), (659, 661), (809, 811), (821, 823), (827, 829), (857, 859), (881, 883)]\n"
     ]
    }
   ],
   "source": [
    "#program to print twin primes less than 1000\n",
    "\n",
    "def is_prime(num) :\n",
    "    '''function to check whether a number is prime or not'''\n",
    "    flag = 1\n",
    "    if num < 2 : # integer 1 is not a prime number\n",
    "        flag = 0\n",
    "        return flag\n",
    "    elif num == 2 :\n",
    "        return flag\n",
    "    elif num == 3 :\n",
    "        return flag\n",
    "    else :\n",
    "        for i in range(2, num) :\n",
    "            if num % i == 0 :\n",
    "                flag = 0\n",
    "                break\n",
    "        return flag\n",
    "\n",
    "twin_primes = []\n",
    "for i in range(2, 999) :\n",
    "    if is_prime(i) == 1 and i % 2 == 1:\n",
    "        if is_prime(i+2) and (i+2) % 2 == 1:\n",
    "            twin_primes.append((i, i+2))\n",
    "\n",
    "print(twin_primes)"
   ]
  },
  {
   "cell_type": "markdown",
   "metadata": {},
   "source": [
    "Alternate solution :"
   ]
  },
  {
   "cell_type": "code",
   "execution_count": 56,
   "metadata": {},
   "outputs": [
    {
     "name": "stdout",
     "output_type": "stream",
     "text": [
      "[(3, 5), (5, 7), (11, 13), (17, 19), (29, 31), (41, 43), (59, 61), (71, 73), (101, 103), (107, 109), (137, 139), (149, 151), (179, 181), (191, 193), (197, 199), (227, 229), (239, 241), (269, 271), (281, 283), (311, 313), (347, 349), (419, 421), (431, 433), (461, 463), (521, 523), (569, 571), (599, 601), (617, 619), (641, 643), (659, 661), (809, 811), (821, 823), (827, 829), (857, 859), (881, 883)]\n"
     ]
    }
   ],
   "source": [
    "#Sympy is a python module or library containing in-built methods or library functions related to prime numbers\n",
    "\n",
    "import sympy as smp\n",
    "\n",
    "twin_primes = [(i, (i+2)) for i in range(3,999) if i % 2 != 0 and smp.isprime(i) and (i+2) % 2 != 0 and smp.isprime((i+2))]\n",
    "\n",
    "print(twin_primes)"
   ]
  },
  {
   "cell_type": "markdown",
   "metadata": {},
   "source": [
    "3. Write a program to find out the prime factors of a number. Example: prime factors of 56 -\n",
    "   2, 2, 2, 7"
   ]
  },
  {
   "cell_type": "code",
   "execution_count": 57,
   "metadata": {},
   "outputs": [
    {
     "name": "stdout",
     "output_type": "stream",
     "text": [
      "Enter a number : 256\n",
      "prime factors of  256  - \n",
      "2 2 2 2 2 2 2 2 "
     ]
    }
   ],
   "source": [
    "#program to find the prime factors of a given number\n",
    "import sympy as smp\n",
    "\n",
    "try:\n",
    "    number = int(input('Enter a number : '))\n",
    "except(ValueError) :\n",
    "    print('Please enter an integer !')\n",
    "num = number\n",
    "prime_factors = []\n",
    "if smp.isprime(number) :\n",
    "    prime_factors.append(number)\n",
    "else :\n",
    "    for i in range(2, int(number/2) + 1) :   \n",
    "        \"\"\"while figuring out prime factors of a given number, n\n",
    "        keep in mind that a number can itself be prime or if not, \n",
    "        then all its prime factors will be less than or equal to its int(n/2 + 1)\"\"\"\n",
    "        if smp.isprime(i) and number % i == 0 :\n",
    "            while(number % i == 0) :\n",
    "                prime_factors.append(i)\n",
    "                number = number  / i\n",
    "print('prime factors of ', num , ' - ')\n",
    "for i in prime_factors :\n",
    "    print(i, end = ' ')"
   ]
  },
  {
   "cell_type": "markdown",
   "metadata": {},
   "source": [
    "4. Write a program to implement the formulae of permutations and combinations."
   ]
  },
  {
   "cell_type": "code",
   "execution_count": 58,
   "metadata": {},
   "outputs": [
    {
     "name": "stdout",
     "output_type": "stream",
     "text": [
      "Enter a number : 25\n",
      "Enter another number : 5\n",
      "Permutation :  6375600\n",
      "Combination :  53130\n"
     ]
    }
   ],
   "source": [
    "import math\n",
    "\n",
    "#we know permutation of a number, n taken r at a time, p(n, r) = n!/(n-r)!\n",
    "def permutation(num, r) :\n",
    "    '''function to calculate number of permutations of a number taken r at a time'''\n",
    "    return int(math.factorial(num)/math.factorial(num-r))\n",
    "\n",
    "#we know combination of a number, n taken r at a time, c(n, r) = n!/(n-r)!*r!\n",
    "def combination(num, r) :\n",
    "    '''function to calculate number of combinations of a number taken r at a time'''\n",
    "    return int(math.factorial(num)/(math.factorial(num-r) * math.factorial(r)))\n",
    "\n",
    "\n",
    "try : \n",
    "    num = int(input('Enter a number : '))\n",
    "    r = int( input('Enter another number : '))\n",
    "except (ValueError) : \n",
    "    print('Please enter an integer!')\n",
    "\n",
    "if(num >= r) :\n",
    "    print('Permutation : ', permutation(num,r))\n",
    "    print('Combination : ', combination(num,r))\n",
    "else :\n",
    "    print('Permutation and combination can\\'t be defined')"
   ]
  },
  {
   "cell_type": "code",
   "execution_count": 59,
   "metadata": {},
   "outputs": [
    {
     "name": "stdout",
     "output_type": "stream",
     "text": [
      "120\n"
     ]
    }
   ],
   "source": [
    "def fact(n) :\n",
    "    if n-1 == 0 :\n",
    "        return 1\n",
    "    else : \n",
    "        result = n*fact(n-1)\n",
    "    return result\n",
    "print(fact(5))"
   ]
  },
  {
   "cell_type": "markdown",
   "metadata": {},
   "source": [
    "5. Write a program to convert a decimal number to a binary number"
   ]
  },
  {
   "cell_type": "code",
   "execution_count": 60,
   "metadata": {},
   "outputs": [
    {
     "name": "stdout",
     "output_type": "stream",
     "text": [
      "Enter a number : 45\n",
      "Binary form of the number  45  is  101101\n"
     ]
    }
   ],
   "source": [
    "#idea about bin() function has been taken from https://www.geeksforgeeks.org/python-program-to-covert-decimal-to-binary-number/\n",
    "try :\n",
    "    decimalNum = int(input(\"Enter a number : \"))\n",
    "except(ValueError) :\n",
    "    print('Please enter a number!')\n",
    "    \n",
    "print('Binary form of the number ',decimalNum,' is ',bin(decimalNum).replace('0b', ''))"
   ]
  },
  {
   "cell_type": "markdown",
   "metadata": {},
   "source": [
    "6. Write a function cubesum() that accepts an integer as input and return the sum of the cubes of the individual digits of that number. Use this function to make functions PrintArmstrong() and isArmstrong() to print armstrong numbers and whether a given number is an armstrong number or not."
   ]
  },
  {
   "cell_type": "code",
   "execution_count": 54,
   "metadata": {},
   "outputs": [
    {
     "name": "stdout",
     "output_type": "stream",
     "text": [
      "Enter a number : 12345\n",
      "Sum of cubes of its digits  225\n",
      "The entered number is an Armstrong number :  False\n",
      "The armstrong numbers are : \n",
      "1 153 370 371 407 "
     ]
    }
   ],
   "source": [
    "def cubesum(number) :\n",
    "    '''function to return the sum of the cubes of the individual digits of that number'''\n",
    "    if number/10 == 0 :\n",
    "        return int((number%10)**3)\n",
    "    else :\n",
    "        num = int(number % 10)\n",
    "        number = int(number/10)\n",
    "        cubeSum = num**3 + cubesum(number)\n",
    "    return cubeSum\n",
    "\n",
    "def isArmstrong(num) :\n",
    "    '''check if given a number, num is an armstrong number or not'''\n",
    "    if num == cubesum(num) :\n",
    "        return True\n",
    "    else :\n",
    "        return False\n",
    "\n",
    "def PrintArmstrong(digit) :\n",
    "    '''prints all the armstrong numbers within range(1, digit)'''\n",
    "    for i in range(1,digit+1) :\n",
    "        if isArmstrong(i) :\n",
    "            print(i, end=' ')\n",
    "            \n",
    "try :\n",
    "    num2Check = int(input('Enter a number : '))\n",
    "except(ValueError) :\n",
    "    print('Please enter an integer!')\n",
    "\n",
    "print('Sum of cubes of its digits ',cubesum(num2Check))\n",
    "print('The entered number is an Armstrong number : ', isArmstrong(num2Check))\n",
    "print('The armstrong numbers are : ')\n",
    "PrintArmstrong(num2Check)"
   ]
  },
  {
   "cell_type": "markdown",
   "metadata": {},
   "source": [
    "7. Write a function prodDigits() that inputs a number and returns the product of digits of that number."
   ]
  },
  {
   "cell_type": "code",
   "execution_count": 15,
   "metadata": {},
   "outputs": [
    {
     "name": "stdout",
     "output_type": "stream",
     "text": [
      "48\n"
     ]
    }
   ],
   "source": [
    "def prodDigits(num) :\n",
    "    '''function to return the product of digits of the number, num taken as input'''\n",
    "    '''if num / 10 == 0 :\n",
    "        return int(num % 10)\n",
    "    else :\n",
    "        number = int(num % 10)\n",
    "        num = int(num / 10)\n",
    "        result = number*prodDigits(num)\n",
    "    return result'''\n",
    "    \n",
    "    product = 1\n",
    "    while num > 0 :\n",
    "        product = product * int(num % 10)\n",
    "        num = num // 10\n",
    "    prod = product\n",
    "    return prod\n",
    "\n",
    "print(prodDigits(68))"
   ]
  },
  {
   "cell_type": "markdown",
   "metadata": {},
   "source": [
    "8. If all the digits of a number n are multiplied by each other repeating with the product, the one digit number obtained at last is called the multiplicative digital root of n. The number of times these digits need to be multiplied to reach one digit is called multiplicative persistance of n. Using the previous function prodDigits(), write the functions MDR() and MPersistance() that input a number and return its multiplicative digital root and multiplicative persistance respectively."
   ]
  },
  {
   "cell_type": "code",
   "execution_count": 4,
   "metadata": {},
   "outputs": [
    {
     "name": "stdout",
     "output_type": "stream",
     "text": [
      "2\n",
      "2\n"
     ]
    }
   ],
   "source": [
    "def prodDigits(num) :\n",
    "    '''function to return the product of digits of the number, num taken as input'''\n",
    "    '''if num / 10 == 0 :\n",
    "        return int(num % 10)\n",
    "    else :\n",
    "        number = int(num % 10)\n",
    "        num = int(num / 10)\n",
    "        result = number*prodDigits(num)\n",
    "    return result'''\n",
    "    \n",
    "    product = 1\n",
    "    while num > 0 :\n",
    "        product = product * int(num % 10)\n",
    "        num = num // 10\n",
    "    #prod = product\n",
    "    #cnt = cnt + 1\n",
    "    return product\n",
    "\n",
    "\n",
    "def MDR(num) :\n",
    "    '''function to return multiplicative digital root'''\n",
    "    mdrValue = prodDigits(num)\n",
    "    \n",
    "    if len(str(mdrValue)) != 1 :\n",
    "        #cnt = cnt + 1\n",
    "        MDR(mdrValue)\n",
    "    else :\n",
    "        print(mdrValue)\n",
    "        #print(cnt) \n",
    "\n",
    "MDR(341)\n",
    "\n",
    "\n",
    "def MPersistance(num, cnt) :\n",
    "    '''function to return multiplicative persistance'''\n",
    "    mPersistance = prodDigits(num)\n",
    "    \n",
    "    if len(str(mPersistance)) != 1 :\n",
    "        cnt = cnt + 1\n",
    "        MPersistance(mPersistance, cnt)\n",
    "    else :\n",
    "        print(cnt)\n",
    "\n",
    "MPersistance(341,1)\n"
   ]
  },
  {
   "cell_type": "markdown",
   "metadata": {},
   "source": [
    "9. Write a function sumPdivisors that finds the sum of all the proper divisors of a given number."
   ]
  },
  {
   "cell_type": "code",
   "execution_count": 14,
   "metadata": {},
   "outputs": [
    {
     "name": "stdout",
     "output_type": "stream",
     "text": [
      "55\n"
     ]
    }
   ],
   "source": [
    "'''Proper divisor of a number are all the numbers except the number itself, with which the number gets divided completely.'''\n",
    "\n",
    "def sumPdivisors(num) :\n",
    "    '''function to find sum of all proper divisors of a given number'''\n",
    "    sum = 0\n",
    "    divisors= []\n",
    "    for digit in range(1,num) :\n",
    "        if num % digit == 0 :\n",
    "            divisors.append(digit)\n",
    "            #print(digit)\n",
    "    for item in divisors :\n",
    "        sum = sum + item\n",
    "    return sum\n",
    "\n",
    "print(sumPdivisors(36))"
   ]
  },
  {
   "cell_type": "markdown",
   "metadata": {},
   "source": [
    "10. Write a program to find all the perfect numbers in a given range."
   ]
  },
  {
   "cell_type": "code",
   "execution_count": 13,
   "metadata": {
    "scrolled": true
   },
   "outputs": [
    {
     "name": "stdout",
     "output_type": "stream",
     "text": [
      "Enter a number : 5227\n",
      "The perfect numbers are :  6 28 496 "
     ]
    }
   ],
   "source": [
    "# A number is called perfect if the sum of its proper divisors is equal to that number.\n",
    "def sumPdivisors(num) :\n",
    "    '''function to find sum of all proper divisors of a given number'''\n",
    "    sum = 0\n",
    "    divisors= []\n",
    "    for digit in range(1,num) :\n",
    "        if num % digit == 0 :\n",
    "            divisors.append(digit)\n",
    "            #print(digit)\n",
    "    for item in divisors :\n",
    "        sum = sum + item\n",
    "    return sum\n",
    "\n",
    "try :\n",
    "    number = int(input('Enter a number : '))\n",
    "except(ValueError) :\n",
    "    print('Please enter an integer !')\n",
    "\n",
    "print('The perfect numbers are : ', end=' ')    \n",
    "for digits in range(1, number):\n",
    "    sumOfDigits = sumPdivisors(digits)\n",
    "    if digits == sumOfDigits :\n",
    "        print(digits, end=' ')\n"
   ]
  },
  {
   "cell_type": "markdown",
   "metadata": {},
   "source": [
    "11. Two different numbers are called amicable numbers if the sum of proper divisors of one number is equal to the other number and vice-versa. Write a function to print pairs of amicable numbers  in a given range."
   ]
  },
  {
   "cell_type": "code",
   "execution_count": 20,
   "metadata": {},
   "outputs": [
    {
     "name": "stdout",
     "output_type": "stream",
     "text": [
      "(220, 284) (284, 220) "
     ]
    }
   ],
   "source": [
    "#program to print pairs of amicable numbers in a given range\n",
    "\n",
    "\n",
    "def sumPdivisors(num) :\n",
    "    '''function to find sum of all proper divisors of a given number'''\n",
    "    sum = 0\n",
    "    divisors= []\n",
    "    for digit in range(1,num) :\n",
    "        if num % digit == 0 :\n",
    "            divisors.append(digit)\n",
    "            #print(digit)\n",
    "    for item in divisors :\n",
    "        sum = sum + item\n",
    "    return sum\n",
    "\n",
    "\n",
    "def amicable(rangeNum) :\n",
    "    '''print all the amicale numbers in pairs'''\n",
    "    #amicablePairs = []\n",
    "    for val1 in range(1, rangeNum) :\n",
    "        for val2 in range(1, rangeNum) :\n",
    "            if val1 == sumPdivisors(val2) and val2 == sumPdivisors(val1) and val1 != val2 :\n",
    "                print((val1, val2), end=' ')\n",
    "\n",
    "amicable(400)"
   ]
  },
  {
   "cell_type": "markdown",
   "metadata": {},
   "source": [
    "12. Write a program to filter odd numbers in a list using the filter() function."
   ]
  },
  {
   "cell_type": "code",
   "execution_count": 24,
   "metadata": {},
   "outputs": [
    {
     "name": "stdout",
     "output_type": "stream",
     "text": [
      "3 23 1443 7 101 67 "
     ]
    }
   ],
   "source": [
    "lst = [2, 3, 44, 32, 23, 132, 1443, 7, 90, 0, 101, 88, 67]\n",
    "\n",
    "oddList = filter(lambda x : x % 2 != 0, lst)\n",
    "for val in oddList :\n",
    "    print(val, end=' ')"
   ]
  },
  {
   "cell_type": "markdown",
   "metadata": {},
   "source": [
    "13. Write a program which can map() to make a list whose elements are cube of elements in a given list."
   ]
  },
  {
   "cell_type": "code",
   "execution_count": 25,
   "metadata": {},
   "outputs": [
    {
     "name": "stdout",
     "output_type": "stream",
     "text": [
      "1 8 27 64 125 "
     ]
    }
   ],
   "source": [
    "lst = [1, 2, 3, 4, 5]\n",
    "\n",
    "cubesList = map(lambda x : x**3, lst)\n",
    "for val in cubesList :\n",
    "    print(val, end=' ')"
   ]
  },
  {
   "cell_type": "markdown",
   "metadata": {},
   "source": [
    "14. Write a program which can map() and filter() to make a list whose elements are cubes of even numbers in a given list."
   ]
  },
  {
   "cell_type": "code",
   "execution_count": 26,
   "metadata": {},
   "outputs": [
    {
     "name": "stdout",
     "output_type": "stream",
     "text": [
      "8 85184 32768 2299968 729000 0 681472 "
     ]
    }
   ],
   "source": [
    "lst = [2, 3, 44, 32, 23, 132, 1443, 7, 90, 0, 101, 88, 67]\n",
    "\n",
    "cubeEvenList = map(lambda y : y**3, filter(lambda x : x % 2 == 0, lst))\n",
    "for val in cubeEvenList :\n",
    "    print(val, end=' ')"
   ]
  },
  {
   "cell_type": "code",
   "execution_count": null,
   "metadata": {},
   "outputs": [],
   "source": []
  }
 ],
 "metadata": {
  "kernelspec": {
   "display_name": "Python 3",
   "language": "python",
   "name": "python3"
  },
  "language_info": {
   "codemirror_mode": {
    "name": "ipython",
    "version": 3
   },
   "file_extension": ".py",
   "mimetype": "text/x-python",
   "name": "python",
   "nbconvert_exporter": "python",
   "pygments_lexer": "ipython3",
   "version": "3.7.3"
  }
 },
 "nbformat": 4,
 "nbformat_minor": 2
}
